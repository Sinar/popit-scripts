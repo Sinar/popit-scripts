{
 "cells": [
  {
   "cell_type": "markdown",
   "metadata": {},
   "source": [
    "![Popolo Data from 1MDB US DoJ Filing](http://sinarproject.org/en/projects/popit-api-database/officer-2.png/@@images/6a15252f-cf77-4ab2-97cf-1c6b37f94fb1.png)"
   ]
  },
  {
   "cell_type": "code",
   "execution_count": 15,
   "metadata": {
    "collapsed": false
   },
   "outputs": [],
   "source": [
    "import requests\n",
    "from IPython.display import Image\n",
    "from IPython.core.display import HTML"
   ]
  },
  {
   "cell_type": "code",
   "execution_count": 16,
   "metadata": {
    "collapsed": false
   },
   "outputs": [
    {
     "data": {
      "text/plain": [
       "3"
      ]
     },
     "execution_count": 16,
     "metadata": {},
     "output_type": "execute_result"
    }
   ],
   "source": [
    "query ='organizations.name:1Malaysia Development Berhad Management AND label:Chief Executive Officer'\n",
    "\n",
    "r = requests.get('http://api.popit.sinarproject.org/en/search/posts?q='+query)\n",
    "memberships = r.json()['results'][0]['memberships']\n",
    "\n",
    "len(memberships)"
   ]
  },
  {
   "cell_type": "markdown",
   "metadata": {},
   "source": [
    "We now test for who held these posts between 2009 and 2013"
   ]
  },
  {
   "cell_type": "code",
   "execution_count": 17,
   "metadata": {
    "collapsed": false,
    "scrolled": true
   },
   "outputs": [
    {
     "name": "stdout",
     "output_type": "stream",
     "text": [
      "Shahrol Azral Ibrahim Halmi\n",
      "Mohd Hazem Abdul Rahman\n",
      "Arul Kanda\n"
     ]
    }
   ],
   "source": [
    "from dateutil import parser\n",
    "import datetime\n",
    "for member in memberships:\n",
    "    print member['person']['name']"
   ]
  },
  {
   "cell_type": "code",
   "execution_count": 26,
   "metadata": {
    "collapsed": false
   },
   "outputs": [
    {
     "name": "stdout",
     "output_type": "stream",
     "text": [
      "Shahrol Azral Ibrahim Halmi\n",
      "popit id: fbaf165b9a674799b40ec6fce39676a7\n",
      "2009-02-01T000000\n"
     ]
    }
   ],
   "source": [
    "from dateutil import parser\n",
    "import datetime\n",
    "for member in memberships:\n",
    "    start_date = parser.parse(member['start_date']).date()\n",
    "    if member['end_date']:\n",
    "        end_date = parser.parse(member['end_date']).date()\n",
    "    else:\n",
    "        end_date = datetime.date.today()\n",
    "    \n",
    "    #this date is in between 2009 and 2013\n",
    "    test_date = parser.parse('2010-01-01').date()\n",
    "    \n",
    "    if start_date <= test_date <= end_date:\n",
    "        print member['person']['name']\n",
    "        print \"popit id: %s\" % member['id']\n",
    "        print member['start_date']\n",
    "        mugshot = Image(url=member['person']['image'],embed=True)"
   ]
  },
  {
   "cell_type": "code",
   "execution_count": 27,
   "metadata": {
    "collapsed": false
   },
   "outputs": [
    {
     "data": {
      "image/jpeg": "[encoded data removed]",
      "text/plain": [
       "<IPython.core.display.Image object>"
      ]
     },
     "execution_count": 27,
     "metadata": {},
     "output_type": "execute_result"
    }
   ],
   "source": [
    "mugshot"
   ]
  },
  {
   "cell_type": "markdown",
   "metadata": {},
   "source": [
    "#Citations"
   ]
  },
  {
   "cell_type": "code",
   "execution_count": 20,
   "metadata": {
    "collapsed": false
   },
   "outputs": [],
   "source": [
    "def citation(popit_id,fieldname):\n",
    "    r = requests.get('http://api.popit.sinarproject.org/en/memberships/' +popit_id + '/citations/' + fieldname)\n",
    "    result = r.json()['results'][0]\n",
    "    return {'note':result['note'],'url':result['url']}"
   ]
  },
  {
   "cell_type": "code",
   "execution_count": 21,
   "metadata": {
    "collapsed": false
   },
   "outputs": [
    {
     "name": "stdout",
     "output_type": "stream",
     "text": [
      "Shahrol Azral Ibrahim Halmi was CEO from 2009-02-01 to 2013-03-31 \n",
      "Citation for membership start: Personal LinkedIn Profile page retrieved July 24, 2016, https://www.linkedin.com/in/shahrol-halmi-82942479 \n",
      "Citation for membership end: Personal LinkedIn Profile page retrieved July 24, 2016 \n",
      " https://www.linkedin.com/in/shahrol-halmi-82942479 \n",
      "\n",
      "\n",
      "Mohd Hazem Abdul Rahman was CEO from 2013-03-25 to 2015-01-05 \n",
      "Citation for membership start: 1MDB Press Release published on corporate website, https://web.archive.org/web/20160723071611/http://1mdb.com.my/press-release/hazem-is-1mdb-md-and-ceo \n",
      "Citation for membership end: Retrieved Malaysiakini website 2016-07-23 \n",
      " https://www.malaysiakini.com/news/285411 \n",
      "\n",
      "\n",
      "Arul Kanda was CEO from 2015-01-05 to present \n",
      "Citation for membership start: Corporate Website Press Release Retrieved: 2016-07-23, http://web.archive.org/web/20160723080302/http://www.1mdb.com.my/press-release/appointment-of-arul-kanda-as-president-group-executive-director \n",
      "\n",
      "\n"
     ]
    }
   ],
   "source": [
    "del start_date\n",
    "del end_date\n",
    "\n",
    "for member in memberships:\n",
    "   \n",
    "    start_date = parser.parse(member['start_date']).date()\n",
    "    if not member['end_date']:\n",
    "        end_date = 'present'\n",
    "    else:\n",
    "        end_date = parser.parse(member['end_date']).date()\n",
    "        \n",
    "    print \"%s was CEO from %s to %s \" % (member['person']['name'], start_date, end_date)\n",
    "\n",
    "    citations = citation(member['id'],'start_date')\n",
    "    print \"Citation for membership start: %s, %s \" % (citations['note'],citations['url'])\n",
    "    \n",
    "    if member['end_date']:\n",
    "        citations = citation(member['id'],'end_date')\n",
    "        print \"Citation for membership end: %s \\n %s \" % (citations['note'],citations['url'])\n",
    "    print '\\n'\n"
   ]
  },
  {
   "cell_type": "code",
   "execution_count": null,
   "metadata": {
    "collapsed": true
   },
   "outputs": [],
   "source": []
  }
 ],
 "metadata": {
  "kernelspec": {
   "display_name": "Python 2",
   "language": "python",
   "name": "python2"
  },
  "language_info": {
   "codemirror_mode": {
    "name": "ipython",
    "version": 2
   },
   "file_extension": ".py",
   "mimetype": "text/x-python",
   "name": "python",
   "nbconvert_exporter": "python",
   "pygments_lexer": "ipython2",
   "version": "2.7.12"
  }
 },
 "nbformat": 4,
 "nbformat_minor": 0
}
