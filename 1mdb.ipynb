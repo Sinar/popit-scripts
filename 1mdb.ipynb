{
 "cells": [
  {
   "cell_type": "markdown",
   "metadata": {},
   "source": [
    "![Popolo Data from 1MDB US DoJ Filing](http://sinarproject.org/en/projects/popit-api-database/officer-2.png/@@images/6a15252f-cf77-4ab2-97cf-1c6b37f94fb1.png)"
   ]
  },
  {
   "cell_type": "code",
   "execution_count": 63,
   "metadata": {
    "collapsed": false
   },
   "outputs": [],
   "source": [
    "import requests"
   ]
  },
  {
   "cell_type": "code",
   "execution_count": 64,
   "metadata": {
    "collapsed": false
   },
   "outputs": [
    {
     "data": {
      "text/plain": [
       "3"
      ]
     },
     "execution_count": 64,
     "metadata": {},
     "output_type": "execute_result"
    }
   ],
   "source": [
    "query ='organizations.name:1Malaysia Development Berhad Management AND label:Chief Executive Officer'\n",
    "\n",
    "r = requests.get('http://api.popit.sinarproject.org/en/search/posts?q='+query)\n",
    "results = r.json()['results'][0]\n",
    "len(results['memberships'])"
   ]
  },
  {
   "cell_type": "markdown",
   "metadata": {},
   "source": [
    "We now test for who held these posts between 2009 and 2013"
   ]
  },
  {
   "cell_type": "code",
   "execution_count": 66,
   "metadata": {
    "collapsed": false,
    "scrolled": true
   },
   "outputs": [
    {
     "name": "stdout",
     "output_type": "stream",
     "text": [
      "Shahrol Azral Ibrahim Halmi\n",
      "Shahrol Azral Ibrahim Halmi\n",
      "Shahrol Azral Ibrahim Halmi\n"
     ]
    }
   ],
   "source": [
    "from dateutil import parser\n",
    "import datetime\n",
    "for member in results['memberships']:\n",
    "    start_date = parser.parse(member['start_date']).date()\n",
    "    end_date = parser.parse(member['end_date']).date()\n",
    "    test_date = parser.parse('2010-01-01').date()\n",
    "    \n",
    "    if start_date <= test_date <= end_date:\n",
    "        print member['person']['name']"
   ]
  },
  {
   "cell_type": "markdown",
   "metadata": {},
   "source": [
    "There is a bug with the elastic search sync that is showing duplicate deleted test entries. This will be fixed soon https://github.com/Sinar/popit_ng/issues/199\n",
    "\n",
    "As we add more people including past CEOs and new CEOs like Arul Kanda, and other posts, we will be able\n",
    "to search with a variety of queries to match people from our growing database of over 4300 political exposed persons, organizations and posts for Malaysia"
   ]
  },
  {
   "cell_type": "code",
   "execution_count": null,
   "metadata": {
    "collapsed": true
   },
   "outputs": [],
   "source": []
  }
 ],
 "metadata": {
  "kernelspec": {
   "display_name": "Python 2",
   "language": "python",
   "name": "python2"
  },
  "language_info": {
   "codemirror_mode": {
    "name": "ipython",
    "version": 2
   },
   "file_extension": ".py",
   "mimetype": "text/x-python",
   "name": "python",
   "nbconvert_exporter": "python",
   "pygments_lexer": "ipython2",
   "version": "2.7.12"
  }
 },
 "nbformat": 4,
 "nbformat_minor": 0
}
