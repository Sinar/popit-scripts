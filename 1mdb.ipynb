{
 "cells": [
  {
   "cell_type": "markdown",
   "metadata": {},
   "source": [
    "![Popolo Data from 1MDB US DoJ Filing](http://sinarproject.org/en/projects/popit-api-database/officer-2.png/@@images/6a15252f-cf77-4ab2-97cf-1c6b37f94fb1.png)"
   ]
  },
  {
   "cell_type": "code",
   "execution_count": 93,
   "metadata": {
    "collapsed": false
   },
   "outputs": [],
   "source": [
    "import requests\n",
    "from IPython.display import Image"
   ]
  },
  {
   "cell_type": "code",
   "execution_count": 94,
   "metadata": {
    "collapsed": false
   },
   "outputs": [
    {
     "data": {
      "text/plain": [
       "3"
      ]
     },
     "execution_count": 94,
     "metadata": {},
     "output_type": "execute_result"
    }
   ],
   "source": [
    "query ='organizations.name:1Malaysia Development Berhad Management AND label:Chief Executive Officer'\n",
    "\n",
    "r = requests.get('http://api.popit.sinarproject.org/en/search/posts?q='+query)\n",
    "memberships = r.json()['results'][0]['memberships']\n",
    "\n",
    "len(memberships)"
   ]
  },
  {
   "cell_type": "markdown",
   "metadata": {},
   "source": [
    "We now test for who held these posts between 2009 and 2013"
   ]
  },
  {
   "cell_type": "code",
   "execution_count": 95,
   "metadata": {
    "collapsed": false,
    "scrolled": true
   },
   "outputs": [
    {
     "name": "stdout",
     "output_type": "stream",
     "text": [
      "Shahrol Azral Ibrahim Halmi\n",
      "Mohd Hazem Abdul Rahman\n",
      "Arul Kanda\n"
     ]
    }
   ],
   "source": [
    "from dateutil import parser\n",
    "import datetime\n",
    "for member in memberships:\n",
    "    print member['person']['name']"
   ]
  },
  {
   "cell_type": "code",
   "execution_count": 96,
   "metadata": {
    "collapsed": false
   },
   "outputs": [
    {
     "name": "stdout",
     "output_type": "stream",
     "text": [
      "Shahrol Azral Ibrahim Halmi\n"
     ]
    }
   ],
   "source": [
    "from dateutil import parser\n",
    "import datetime\n",
    "for member in memberships:\n",
    "    start_date = parser.parse(member['start_date']).date()\n",
    "    if member['end_date']:\n",
    "        end_date = parser.parse(member['end_date']).date()\n",
    "    else:\n",
    "        end_date = datetime.date.today()\n",
    "    \n",
    "    #this date is in between 2009 and 2013\n",
    "    test_date = parser.parse('2010-01-01').date()\n",
    "    \n",
    "    if start_date <= test_date <= end_date:\n",
    "        print member['person']['name']\n",
    "        #Image(url=member['person']['image'],format='jpeg',embed=True)"
   ]
  }
 ],
 "metadata": {
  "kernelspec": {
   "display_name": "Python 2",
   "language": "python",
   "name": "python2"
  },
  "language_info": {
   "codemirror_mode": {
    "name": "ipython",
    "version": 2
   },
   "file_extension": ".py",
   "mimetype": "text/x-python",
   "name": "python",
   "nbconvert_exporter": "python",
   "pygments_lexer": "ipython2",
   "version": "2.7.12"
  }
 },
 "nbformat": 4,
 "nbformat_minor": 0
}
